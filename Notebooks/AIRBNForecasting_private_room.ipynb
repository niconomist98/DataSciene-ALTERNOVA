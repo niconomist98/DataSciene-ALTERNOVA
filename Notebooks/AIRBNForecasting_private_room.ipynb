{
 "cells": [
  {
   "cell_type": "markdown",
   "metadata": {},
   "source": [
    "Modelo para predicción de precio de habitaciones privadas\n",
    "En este notebook construiremos un modelo para predecir el precio optimo que deberia tener una habitacion privada de airbnb usando la parte del dataset  original que contiene registros de habitaciones privadas unicamente, veremos si haciendo esta separación obtenemos un mejor modelo "
   ]
  },
  {
   "cell_type": "code",
   "execution_count": 34,
   "metadata": {},
   "outputs": [],
   "source": [
    "import pandas as pd\n",
    "import numpy as np\n",
    "import openpyxl\n",
    "import seaborn as sns\n",
    "import matplotlib.pyplot as plt\n",
    "from scipy import stats\n",
    "#! pip install py-AutoClean\n",
    "from sklearn.model_selection import train_test_split\n",
    "from sklearn.preprocessing import OneHotEncoder,StandardScaler\n",
    "from sklearn.compose import ColumnTransformer\n",
    "from sklearn.pipeline import Pipeline\n",
    "from sklearn.linear_model import LinearRegression, HuberRegressor, RANSACRegressor\n",
    "from sklearn.metrics import mean_squared_error, r2_score\n",
    "from sklearn.tree import DecisionTreeRegressor\n",
    "from sklearn.ensemble import IsolationForest\n",
    "#! pip install xgboost\n",
    "import xgboost as xgb\n",
    "from sklearn.metrics import mean_squared_error\n",
    "from sklearn.metrics import mean_absolute_error\n",
    "from sklearn.feature_selection import SelectKBest, f_regression\n",
    "from sklearn.model_selection import GridSearchCV, RandomizedSearchCV\n",
    "#! pip install --user pycaret\n",
    "import pycaret as pycaret\n",
    "from pycaret.regression import *\n",
    "import lightgbm as lgb\n",
    "import joblib\n",
    "\n"
   ]
  },
  {
   "cell_type": "markdown",
   "metadata": {},
   "source": [
    "Leyendo el dataset que hemos preparado previamente"
   ]
  },
  {
   "cell_type": "code",
   "execution_count": 2,
   "metadata": {},
   "outputs": [],
   "source": [
    "df=pd.read_csv('../datos_separados/datos_private_room_encoded_no_out.csv')"
   ]
  },
  {
   "cell_type": "code",
   "execution_count": 3,
   "metadata": {},
   "outputs": [
    {
     "name": "stdout",
     "output_type": "stream",
     "text": [
      "<class 'pandas.core.frame.DataFrame'>\n",
      "RangeIndex: 27479 entries, 0 to 27478\n",
      "Data columns (total 9 columns):\n",
      " #   Column                          Non-Null Count  Dtype  \n",
      "---  ------                          --------------  -----  \n",
      " 0   neighbourhood                   27479 non-null  object \n",
      " 1   latitude                        27479 non-null  float64\n",
      " 2   longitude                       27479 non-null  float64\n",
      " 3   room_type                       27479 non-null  object \n",
      " 4   price                           27479 non-null  int64  \n",
      " 5   minimum_nights                  27479 non-null  int64  \n",
      " 6   calculated_host_listings_count  27479 non-null  int64  \n",
      " 7   availability_365                27479 non-null  int64  \n",
      " 8   number_of_reviews_ltm           27479 non-null  int64  \n",
      "dtypes: float64(2), int64(5), object(2)\n",
      "memory usage: 1.9+ MB\n"
     ]
    }
   ],
   "source": [
    "df.info()"
   ]
  },
  {
   "cell_type": "code",
   "execution_count": 4,
   "metadata": {},
   "outputs": [
    {
     "data": {
      "text/plain": [
       "neighbourhood                        33\n",
       "latitude                          16588\n",
       "longitude                         20424\n",
       "room_type                             1\n",
       "price                               531\n",
       "minimum_nights                      103\n",
       "calculated_host_listings_count       56\n",
       "availability_365                    366\n",
       "number_of_reviews_ltm               137\n",
       "dtype: int64"
      ]
     },
     "execution_count": 4,
     "metadata": {},
     "output_type": "execute_result"
    }
   ],
   "source": [
    "df.nunique()"
   ]
  },
  {
   "cell_type": "markdown",
   "metadata": {},
   "source": [
    "Los modelos de ML (algunos) requieren codificar las variables categoricas usando algun metodo antes de poder procesar los datos y arrojar resultados consistentes, en este caso usaremos la estrategia de one hot encoding para dcodificar las variables neighbourhood y room_type."
   ]
  },
  {
   "cell_type": "code",
   "execution_count": 5,
   "metadata": {},
   "outputs": [],
   "source": [
    "\n",
    "columna_a_codificar = 'neighbourhood'\n",
    "\n",
    "# Crear el codificador One-Hot Encoder\n",
    "onehot_encoder = OneHotEncoder()\n",
    "\n",
    "# Ajustar y transformar la columna seleccionada con One-Hot Encoder\n",
    "encoded_features = onehot_encoder.fit_transform(df[[columna_a_codificar]])\n",
    "\n",
    "# Crear un nuevo DataFrame con las características codificadas\n",
    "encoded_df = pd.DataFrame(encoded_features.toarray(), columns=onehot_encoder.get_feature_names_out([columna_a_codificar]))\n",
    "\n",
    "# Concatenar el DataFrame codificado con el DataFrame original\n",
    "data_encoded = pd.concat([df.drop([columna_a_codificar], axis=1), encoded_df], axis=1)\n",
    "\n"
   ]
  },
  {
   "cell_type": "code",
   "execution_count": 6,
   "metadata": {},
   "outputs": [],
   "source": [
    "columna_a_codificar = 'room_type'\n",
    "\n",
    "# Crear el codificador One-Hot Encoder\n",
    "onehot_encoder = OneHotEncoder()\n",
    "\n",
    "# Ajustar y transformar la columna seleccionada con One-Hot Encoder\n",
    "encoded_features = onehot_encoder.fit_transform(data_encoded[[columna_a_codificar]])\n",
    "\n",
    "# Crear un nuevo DataFrame con las características codificadas\n",
    "encoded_df = pd.DataFrame(encoded_features.toarray(), columns=onehot_encoder.get_feature_names_out([columna_a_codificar]))\n",
    "\n",
    "# Concatenar el DataFrame codificado con el DataFrame original\n",
    "data_encoded = pd.concat([data_encoded.drop([columna_a_codificar], axis=1), encoded_df], axis=1)"
   ]
  },
  {
   "cell_type": "code",
   "execution_count": 7,
   "metadata": {},
   "outputs": [
    {
     "data": {
      "text/html": [
       "<div>\n",
       "<style scoped>\n",
       "    .dataframe tbody tr th:only-of-type {\n",
       "        vertical-align: middle;\n",
       "    }\n",
       "\n",
       "    .dataframe tbody tr th {\n",
       "        vertical-align: top;\n",
       "    }\n",
       "\n",
       "    .dataframe thead th {\n",
       "        text-align: right;\n",
       "    }\n",
       "</style>\n",
       "<table border=\"1\" class=\"dataframe\">\n",
       "  <thead>\n",
       "    <tr style=\"text-align: right;\">\n",
       "      <th></th>\n",
       "      <th>latitude</th>\n",
       "      <th>longitude</th>\n",
       "      <th>price</th>\n",
       "      <th>minimum_nights</th>\n",
       "      <th>calculated_host_listings_count</th>\n",
       "      <th>availability_365</th>\n",
       "      <th>number_of_reviews_ltm</th>\n",
       "      <th>neighbourhood_Barking and Dagenham</th>\n",
       "      <th>neighbourhood_Barnet</th>\n",
       "      <th>neighbourhood_Bexley</th>\n",
       "      <th>...</th>\n",
       "      <th>neighbourhood_Newham</th>\n",
       "      <th>neighbourhood_Redbridge</th>\n",
       "      <th>neighbourhood_Richmond upon Thames</th>\n",
       "      <th>neighbourhood_Southwark</th>\n",
       "      <th>neighbourhood_Sutton</th>\n",
       "      <th>neighbourhood_Tower Hamlets</th>\n",
       "      <th>neighbourhood_Waltham Forest</th>\n",
       "      <th>neighbourhood_Wandsworth</th>\n",
       "      <th>neighbourhood_Westminster</th>\n",
       "      <th>room_type_Private room</th>\n",
       "    </tr>\n",
       "  </thead>\n",
       "  <tbody>\n",
       "    <tr>\n",
       "      <th>0</th>\n",
       "      <td>51.52874</td>\n",
       "      <td>-0.05396</td>\n",
       "      <td>55</td>\n",
       "      <td>3</td>\n",
       "      <td>1</td>\n",
       "      <td>74</td>\n",
       "      <td>0</td>\n",
       "      <td>0.0</td>\n",
       "      <td>0.0</td>\n",
       "      <td>0.0</td>\n",
       "      <td>...</td>\n",
       "      <td>0.0</td>\n",
       "      <td>0.0</td>\n",
       "      <td>0.0</td>\n",
       "      <td>0.0</td>\n",
       "      <td>0.0</td>\n",
       "      <td>1.0</td>\n",
       "      <td>0.0</td>\n",
       "      <td>0.0</td>\n",
       "      <td>0.0</td>\n",
       "      <td>1.0</td>\n",
       "    </tr>\n",
       "    <tr>\n",
       "      <th>1</th>\n",
       "      <td>51.56861</td>\n",
       "      <td>-0.11270</td>\n",
       "      <td>50</td>\n",
       "      <td>1</td>\n",
       "      <td>2</td>\n",
       "      <td>343</td>\n",
       "      <td>9</td>\n",
       "      <td>0.0</td>\n",
       "      <td>0.0</td>\n",
       "      <td>0.0</td>\n",
       "      <td>...</td>\n",
       "      <td>0.0</td>\n",
       "      <td>0.0</td>\n",
       "      <td>0.0</td>\n",
       "      <td>0.0</td>\n",
       "      <td>0.0</td>\n",
       "      <td>0.0</td>\n",
       "      <td>0.0</td>\n",
       "      <td>0.0</td>\n",
       "      <td>0.0</td>\n",
       "      <td>1.0</td>\n",
       "    </tr>\n",
       "    <tr>\n",
       "      <th>2</th>\n",
       "      <td>51.52478</td>\n",
       "      <td>-0.10484</td>\n",
       "      <td>180</td>\n",
       "      <td>4</td>\n",
       "      <td>5</td>\n",
       "      <td>236</td>\n",
       "      <td>20</td>\n",
       "      <td>0.0</td>\n",
       "      <td>0.0</td>\n",
       "      <td>0.0</td>\n",
       "      <td>...</td>\n",
       "      <td>0.0</td>\n",
       "      <td>0.0</td>\n",
       "      <td>0.0</td>\n",
       "      <td>0.0</td>\n",
       "      <td>0.0</td>\n",
       "      <td>0.0</td>\n",
       "      <td>0.0</td>\n",
       "      <td>0.0</td>\n",
       "      <td>0.0</td>\n",
       "      <td>1.0</td>\n",
       "    </tr>\n",
       "    <tr>\n",
       "      <th>3</th>\n",
       "      <td>51.61137</td>\n",
       "      <td>-0.11888</td>\n",
       "      <td>30</td>\n",
       "      <td>7</td>\n",
       "      <td>1</td>\n",
       "      <td>251</td>\n",
       "      <td>4</td>\n",
       "      <td>0.0</td>\n",
       "      <td>0.0</td>\n",
       "      <td>0.0</td>\n",
       "      <td>...</td>\n",
       "      <td>0.0</td>\n",
       "      <td>0.0</td>\n",
       "      <td>0.0</td>\n",
       "      <td>0.0</td>\n",
       "      <td>0.0</td>\n",
       "      <td>0.0</td>\n",
       "      <td>0.0</td>\n",
       "      <td>0.0</td>\n",
       "      <td>0.0</td>\n",
       "      <td>1.0</td>\n",
       "    </tr>\n",
       "    <tr>\n",
       "      <th>4</th>\n",
       "      <td>51.44777</td>\n",
       "      <td>-0.33962</td>\n",
       "      <td>1000</td>\n",
       "      <td>2</td>\n",
       "      <td>1</td>\n",
       "      <td>0</td>\n",
       "      <td>0</td>\n",
       "      <td>0.0</td>\n",
       "      <td>0.0</td>\n",
       "      <td>0.0</td>\n",
       "      <td>...</td>\n",
       "      <td>0.0</td>\n",
       "      <td>0.0</td>\n",
       "      <td>1.0</td>\n",
       "      <td>0.0</td>\n",
       "      <td>0.0</td>\n",
       "      <td>0.0</td>\n",
       "      <td>0.0</td>\n",
       "      <td>0.0</td>\n",
       "      <td>0.0</td>\n",
       "      <td>1.0</td>\n",
       "    </tr>\n",
       "    <tr>\n",
       "      <th>...</th>\n",
       "      <td>...</td>\n",
       "      <td>...</td>\n",
       "      <td>...</td>\n",
       "      <td>...</td>\n",
       "      <td>...</td>\n",
       "      <td>...</td>\n",
       "      <td>...</td>\n",
       "      <td>...</td>\n",
       "      <td>...</td>\n",
       "      <td>...</td>\n",
       "      <td>...</td>\n",
       "      <td>...</td>\n",
       "      <td>...</td>\n",
       "      <td>...</td>\n",
       "      <td>...</td>\n",
       "      <td>...</td>\n",
       "      <td>...</td>\n",
       "      <td>...</td>\n",
       "      <td>...</td>\n",
       "      <td>...</td>\n",
       "      <td>...</td>\n",
       "    </tr>\n",
       "    <tr>\n",
       "      <th>27474</th>\n",
       "      <td>51.44765</td>\n",
       "      <td>0.21993</td>\n",
       "      <td>48</td>\n",
       "      <td>2</td>\n",
       "      <td>2</td>\n",
       "      <td>11</td>\n",
       "      <td>7</td>\n",
       "      <td>0.0</td>\n",
       "      <td>0.0</td>\n",
       "      <td>1.0</td>\n",
       "      <td>...</td>\n",
       "      <td>0.0</td>\n",
       "      <td>0.0</td>\n",
       "      <td>0.0</td>\n",
       "      <td>0.0</td>\n",
       "      <td>0.0</td>\n",
       "      <td>0.0</td>\n",
       "      <td>0.0</td>\n",
       "      <td>0.0</td>\n",
       "      <td>0.0</td>\n",
       "      <td>1.0</td>\n",
       "    </tr>\n",
       "    <tr>\n",
       "      <th>27475</th>\n",
       "      <td>51.50884</td>\n",
       "      <td>-0.03641</td>\n",
       "      <td>96</td>\n",
       "      <td>2</td>\n",
       "      <td>1</td>\n",
       "      <td>0</td>\n",
       "      <td>0</td>\n",
       "      <td>0.0</td>\n",
       "      <td>0.0</td>\n",
       "      <td>0.0</td>\n",
       "      <td>...</td>\n",
       "      <td>0.0</td>\n",
       "      <td>0.0</td>\n",
       "      <td>0.0</td>\n",
       "      <td>0.0</td>\n",
       "      <td>0.0</td>\n",
       "      <td>1.0</td>\n",
       "      <td>0.0</td>\n",
       "      <td>0.0</td>\n",
       "      <td>0.0</td>\n",
       "      <td>1.0</td>\n",
       "    </tr>\n",
       "    <tr>\n",
       "      <th>27476</th>\n",
       "      <td>51.50924</td>\n",
       "      <td>-0.04318</td>\n",
       "      <td>29</td>\n",
       "      <td>28</td>\n",
       "      <td>1</td>\n",
       "      <td>0</td>\n",
       "      <td>0</td>\n",
       "      <td>0.0</td>\n",
       "      <td>0.0</td>\n",
       "      <td>0.0</td>\n",
       "      <td>...</td>\n",
       "      <td>0.0</td>\n",
       "      <td>0.0</td>\n",
       "      <td>0.0</td>\n",
       "      <td>0.0</td>\n",
       "      <td>0.0</td>\n",
       "      <td>1.0</td>\n",
       "      <td>0.0</td>\n",
       "      <td>0.0</td>\n",
       "      <td>0.0</td>\n",
       "      <td>1.0</td>\n",
       "    </tr>\n",
       "    <tr>\n",
       "      <th>27477</th>\n",
       "      <td>51.50310</td>\n",
       "      <td>-0.06651</td>\n",
       "      <td>93</td>\n",
       "      <td>1</td>\n",
       "      <td>2</td>\n",
       "      <td>0</td>\n",
       "      <td>0</td>\n",
       "      <td>0.0</td>\n",
       "      <td>0.0</td>\n",
       "      <td>0.0</td>\n",
       "      <td>...</td>\n",
       "      <td>0.0</td>\n",
       "      <td>0.0</td>\n",
       "      <td>0.0</td>\n",
       "      <td>0.0</td>\n",
       "      <td>0.0</td>\n",
       "      <td>1.0</td>\n",
       "      <td>0.0</td>\n",
       "      <td>0.0</td>\n",
       "      <td>0.0</td>\n",
       "      <td>1.0</td>\n",
       "    </tr>\n",
       "    <tr>\n",
       "      <th>27478</th>\n",
       "      <td>51.48300</td>\n",
       "      <td>-0.01346</td>\n",
       "      <td>55</td>\n",
       "      <td>5</td>\n",
       "      <td>3</td>\n",
       "      <td>0</td>\n",
       "      <td>1</td>\n",
       "      <td>0.0</td>\n",
       "      <td>0.0</td>\n",
       "      <td>0.0</td>\n",
       "      <td>...</td>\n",
       "      <td>0.0</td>\n",
       "      <td>0.0</td>\n",
       "      <td>0.0</td>\n",
       "      <td>0.0</td>\n",
       "      <td>0.0</td>\n",
       "      <td>0.0</td>\n",
       "      <td>0.0</td>\n",
       "      <td>0.0</td>\n",
       "      <td>0.0</td>\n",
       "      <td>1.0</td>\n",
       "    </tr>\n",
       "  </tbody>\n",
       "</table>\n",
       "<p>27479 rows × 41 columns</p>\n",
       "</div>"
      ],
      "text/plain": [
       "       latitude  longitude  price  minimum_nights  \\\n",
       "0      51.52874   -0.05396     55               3   \n",
       "1      51.56861   -0.11270     50               1   \n",
       "2      51.52478   -0.10484    180               4   \n",
       "3      51.61137   -0.11888     30               7   \n",
       "4      51.44777   -0.33962   1000               2   \n",
       "...         ...        ...    ...             ...   \n",
       "27474  51.44765    0.21993     48               2   \n",
       "27475  51.50884   -0.03641     96               2   \n",
       "27476  51.50924   -0.04318     29              28   \n",
       "27477  51.50310   -0.06651     93               1   \n",
       "27478  51.48300   -0.01346     55               5   \n",
       "\n",
       "       calculated_host_listings_count  availability_365  \\\n",
       "0                                   1                74   \n",
       "1                                   2               343   \n",
       "2                                   5               236   \n",
       "3                                   1               251   \n",
       "4                                   1                 0   \n",
       "...                               ...               ...   \n",
       "27474                               2                11   \n",
       "27475                               1                 0   \n",
       "27476                               1                 0   \n",
       "27477                               2                 0   \n",
       "27478                               3                 0   \n",
       "\n",
       "       number_of_reviews_ltm  neighbourhood_Barking and Dagenham  \\\n",
       "0                          0                                 0.0   \n",
       "1                          9                                 0.0   \n",
       "2                         20                                 0.0   \n",
       "3                          4                                 0.0   \n",
       "4                          0                                 0.0   \n",
       "...                      ...                                 ...   \n",
       "27474                      7                                 0.0   \n",
       "27475                      0                                 0.0   \n",
       "27476                      0                                 0.0   \n",
       "27477                      0                                 0.0   \n",
       "27478                      1                                 0.0   \n",
       "\n",
       "       neighbourhood_Barnet  neighbourhood_Bexley  ...  neighbourhood_Newham  \\\n",
       "0                       0.0                   0.0  ...                   0.0   \n",
       "1                       0.0                   0.0  ...                   0.0   \n",
       "2                       0.0                   0.0  ...                   0.0   \n",
       "3                       0.0                   0.0  ...                   0.0   \n",
       "4                       0.0                   0.0  ...                   0.0   \n",
       "...                     ...                   ...  ...                   ...   \n",
       "27474                   0.0                   1.0  ...                   0.0   \n",
       "27475                   0.0                   0.0  ...                   0.0   \n",
       "27476                   0.0                   0.0  ...                   0.0   \n",
       "27477                   0.0                   0.0  ...                   0.0   \n",
       "27478                   0.0                   0.0  ...                   0.0   \n",
       "\n",
       "       neighbourhood_Redbridge  neighbourhood_Richmond upon Thames  \\\n",
       "0                          0.0                                 0.0   \n",
       "1                          0.0                                 0.0   \n",
       "2                          0.0                                 0.0   \n",
       "3                          0.0                                 0.0   \n",
       "4                          0.0                                 1.0   \n",
       "...                        ...                                 ...   \n",
       "27474                      0.0                                 0.0   \n",
       "27475                      0.0                                 0.0   \n",
       "27476                      0.0                                 0.0   \n",
       "27477                      0.0                                 0.0   \n",
       "27478                      0.0                                 0.0   \n",
       "\n",
       "       neighbourhood_Southwark  neighbourhood_Sutton  \\\n",
       "0                          0.0                   0.0   \n",
       "1                          0.0                   0.0   \n",
       "2                          0.0                   0.0   \n",
       "3                          0.0                   0.0   \n",
       "4                          0.0                   0.0   \n",
       "...                        ...                   ...   \n",
       "27474                      0.0                   0.0   \n",
       "27475                      0.0                   0.0   \n",
       "27476                      0.0                   0.0   \n",
       "27477                      0.0                   0.0   \n",
       "27478                      0.0                   0.0   \n",
       "\n",
       "       neighbourhood_Tower Hamlets  neighbourhood_Waltham Forest  \\\n",
       "0                              1.0                           0.0   \n",
       "1                              0.0                           0.0   \n",
       "2                              0.0                           0.0   \n",
       "3                              0.0                           0.0   \n",
       "4                              0.0                           0.0   \n",
       "...                            ...                           ...   \n",
       "27474                          0.0                           0.0   \n",
       "27475                          1.0                           0.0   \n",
       "27476                          1.0                           0.0   \n",
       "27477                          1.0                           0.0   \n",
       "27478                          0.0                           0.0   \n",
       "\n",
       "       neighbourhood_Wandsworth  neighbourhood_Westminster  \\\n",
       "0                           0.0                        0.0   \n",
       "1                           0.0                        0.0   \n",
       "2                           0.0                        0.0   \n",
       "3                           0.0                        0.0   \n",
       "4                           0.0                        0.0   \n",
       "...                         ...                        ...   \n",
       "27474                       0.0                        0.0   \n",
       "27475                       0.0                        0.0   \n",
       "27476                       0.0                        0.0   \n",
       "27477                       0.0                        0.0   \n",
       "27478                       0.0                        0.0   \n",
       "\n",
       "       room_type_Private room  \n",
       "0                         1.0  \n",
       "1                         1.0  \n",
       "2                         1.0  \n",
       "3                         1.0  \n",
       "4                         1.0  \n",
       "...                       ...  \n",
       "27474                     1.0  \n",
       "27475                     1.0  \n",
       "27476                     1.0  \n",
       "27477                     1.0  \n",
       "27478                     1.0  \n",
       "\n",
       "[27479 rows x 41 columns]"
      ]
     },
     "execution_count": 7,
     "metadata": {},
     "output_type": "execute_result"
    }
   ],
   "source": [
    "data_encoded"
   ]
  },
  {
   "cell_type": "markdown",
   "metadata": {},
   "source": [
    "Separando el dataset en train y test para entrenar el modelo y probarlo en datos desconocidos, dejamos un tamaño para el set de prueba del 30 % del set original"
   ]
  },
  {
   "cell_type": "code",
   "execution_count": 8,
   "metadata": {},
   "outputs": [],
   "source": [
    "# se toman todas las columnas menos, la variable objetivo\n",
    "X = data_encoded.drop('price', axis=1)\n",
    "# se selecciona la columna de la clase\n",
    "y = data_encoded['price']\n",
    "# Split dataset into training set and test set\n",
    "#random_state generador de numero aleatorios (semilla usada por el generador)\n",
    "X_train, X_test, y_train, y_test = train_test_split(X, y, test_size=0.3, random_state=1,shuffle=True) # 70% "
   ]
  },
  {
   "cell_type": "markdown",
   "metadata": {},
   "source": [
    "Aplicando el scaler a X_train, repetir para X_test con el mismo scaler, este procedimiento escala las variables numericas para reducir la volatilidad y mejorar los resultados del modelo al obtener los mismos datos en un rango menor sin perder la proporcion que los datos guardan entre ellos."
   ]
  },
  {
   "cell_type": "code",
   "execution_count": 9,
   "metadata": {},
   "outputs": [],
   "source": [
    "# Seleccionar las columnas numéricas que deseas escalar\n",
    "columnas_a_escalar = [ 'latitude', 'longitude',\n",
    "       'minimum_nights', 'calculated_host_listings_count', 'availability_365',\n",
    "       'number_of_reviews_ltm']\n",
    "\n",
    "# Crear el objeto StandardScaler\n",
    "scaler = StandardScaler()\n",
    "\n",
    "# Ajustar y transformar las columnas seleccionadas con el StandardScaler\n",
    "X_train[columnas_a_escalar] = scaler.fit_transform(X_train[columnas_a_escalar])"
   ]
  },
  {
   "cell_type": "code",
   "execution_count": 10,
   "metadata": {},
   "outputs": [
    {
     "data": {
      "text/html": [
       "<style>#sk-container-id-1 {color: black;background-color: white;}#sk-container-id-1 pre{padding: 0;}#sk-container-id-1 div.sk-toggleable {background-color: white;}#sk-container-id-1 label.sk-toggleable__label {cursor: pointer;display: block;width: 100%;margin-bottom: 0;padding: 0.3em;box-sizing: border-box;text-align: center;}#sk-container-id-1 label.sk-toggleable__label-arrow:before {content: \"▸\";float: left;margin-right: 0.25em;color: #696969;}#sk-container-id-1 label.sk-toggleable__label-arrow:hover:before {color: black;}#sk-container-id-1 div.sk-estimator:hover label.sk-toggleable__label-arrow:before {color: black;}#sk-container-id-1 div.sk-toggleable__content {max-height: 0;max-width: 0;overflow: hidden;text-align: left;background-color: #f0f8ff;}#sk-container-id-1 div.sk-toggleable__content pre {margin: 0.2em;color: black;border-radius: 0.25em;background-color: #f0f8ff;}#sk-container-id-1 input.sk-toggleable__control:checked~div.sk-toggleable__content {max-height: 200px;max-width: 100%;overflow: auto;}#sk-container-id-1 input.sk-toggleable__control:checked~label.sk-toggleable__label-arrow:before {content: \"▾\";}#sk-container-id-1 div.sk-estimator input.sk-toggleable__control:checked~label.sk-toggleable__label {background-color: #d4ebff;}#sk-container-id-1 div.sk-label input.sk-toggleable__control:checked~label.sk-toggleable__label {background-color: #d4ebff;}#sk-container-id-1 input.sk-hidden--visually {border: 0;clip: rect(1px 1px 1px 1px);clip: rect(1px, 1px, 1px, 1px);height: 1px;margin: -1px;overflow: hidden;padding: 0;position: absolute;width: 1px;}#sk-container-id-1 div.sk-estimator {font-family: monospace;background-color: #f0f8ff;border: 1px dotted black;border-radius: 0.25em;box-sizing: border-box;margin-bottom: 0.5em;}#sk-container-id-1 div.sk-estimator:hover {background-color: #d4ebff;}#sk-container-id-1 div.sk-parallel-item::after {content: \"\";width: 100%;border-bottom: 1px solid gray;flex-grow: 1;}#sk-container-id-1 div.sk-label:hover label.sk-toggleable__label {background-color: #d4ebff;}#sk-container-id-1 div.sk-serial::before {content: \"\";position: absolute;border-left: 1px solid gray;box-sizing: border-box;top: 0;bottom: 0;left: 50%;z-index: 0;}#sk-container-id-1 div.sk-serial {display: flex;flex-direction: column;align-items: center;background-color: white;padding-right: 0.2em;padding-left: 0.2em;position: relative;}#sk-container-id-1 div.sk-item {position: relative;z-index: 1;}#sk-container-id-1 div.sk-parallel {display: flex;align-items: stretch;justify-content: center;background-color: white;position: relative;}#sk-container-id-1 div.sk-item::before, #sk-container-id-1 div.sk-parallel-item::before {content: \"\";position: absolute;border-left: 1px solid gray;box-sizing: border-box;top: 0;bottom: 0;left: 50%;z-index: -1;}#sk-container-id-1 div.sk-parallel-item {display: flex;flex-direction: column;z-index: 1;position: relative;background-color: white;}#sk-container-id-1 div.sk-parallel-item:first-child::after {align-self: flex-end;width: 50%;}#sk-container-id-1 div.sk-parallel-item:last-child::after {align-self: flex-start;width: 50%;}#sk-container-id-1 div.sk-parallel-item:only-child::after {width: 0;}#sk-container-id-1 div.sk-dashed-wrapped {border: 1px dashed gray;margin: 0 0.4em 0.5em 0.4em;box-sizing: border-box;padding-bottom: 0.4em;background-color: white;}#sk-container-id-1 div.sk-label label {font-family: monospace;font-weight: bold;display: inline-block;line-height: 1.2em;}#sk-container-id-1 div.sk-label-container {text-align: center;}#sk-container-id-1 div.sk-container {/* jupyter's `normalize.less` sets `[hidden] { display: none; }` but bootstrap.min.css set `[hidden] { display: none !important; }` so we also need the `!important` here to be able to override the default hidden behavior on the sphinx rendered scikit-learn.org. See: https://github.com/scikit-learn/scikit-learn/issues/21755 */display: inline-block !important;position: relative;}#sk-container-id-1 div.sk-text-repr-fallback {display: none;}</style><div id=\"sk-container-id-1\" class=\"sk-top-container\"><div class=\"sk-text-repr-fallback\"><pre>XGBRegressor(base_score=None, booster=None, callbacks=None,\n",
       "             colsample_bylevel=None, colsample_bynode=None,\n",
       "             colsample_bytree=None, early_stopping_rounds=None,\n",
       "             enable_categorical=False, eval_metric=None, feature_types=None,\n",
       "             gamma=None, gpu_id=None, grow_policy=None, importance_type=None,\n",
       "             interaction_constraints=None, learning_rate=None, max_bin=None,\n",
       "             max_cat_threshold=None, max_cat_to_onehot=None,\n",
       "             max_delta_step=None, max_depth=None, max_leaves=None,\n",
       "             min_child_weight=None, missing=nan, monotone_constraints=None,\n",
       "             n_estimators=100, n_jobs=None, num_parallel_tree=None,\n",
       "             predictor=None, random_state=None, ...)</pre><b>In a Jupyter environment, please rerun this cell to show the HTML representation or trust the notebook. <br />On GitHub, the HTML representation is unable to render, please try loading this page with nbviewer.org.</b></div><div class=\"sk-container\" hidden><div class=\"sk-item\"><div class=\"sk-estimator sk-toggleable\"><input class=\"sk-toggleable__control sk-hidden--visually\" id=\"sk-estimator-id-1\" type=\"checkbox\" checked><label for=\"sk-estimator-id-1\" class=\"sk-toggleable__label sk-toggleable__label-arrow\">XGBRegressor</label><div class=\"sk-toggleable__content\"><pre>XGBRegressor(base_score=None, booster=None, callbacks=None,\n",
       "             colsample_bylevel=None, colsample_bynode=None,\n",
       "             colsample_bytree=None, early_stopping_rounds=None,\n",
       "             enable_categorical=False, eval_metric=None, feature_types=None,\n",
       "             gamma=None, gpu_id=None, grow_policy=None, importance_type=None,\n",
       "             interaction_constraints=None, learning_rate=None, max_bin=None,\n",
       "             max_cat_threshold=None, max_cat_to_onehot=None,\n",
       "             max_delta_step=None, max_depth=None, max_leaves=None,\n",
       "             min_child_weight=None, missing=nan, monotone_constraints=None,\n",
       "             n_estimators=100, n_jobs=None, num_parallel_tree=None,\n",
       "             predictor=None, random_state=None, ...)</pre></div></div></div></div></div>"
      ],
      "text/plain": [
       "XGBRegressor(base_score=None, booster=None, callbacks=None,\n",
       "             colsample_bylevel=None, colsample_bynode=None,\n",
       "             colsample_bytree=None, early_stopping_rounds=None,\n",
       "             enable_categorical=False, eval_metric=None, feature_types=None,\n",
       "             gamma=None, gpu_id=None, grow_policy=None, importance_type=None,\n",
       "             interaction_constraints=None, learning_rate=None, max_bin=None,\n",
       "             max_cat_threshold=None, max_cat_to_onehot=None,\n",
       "             max_delta_step=None, max_depth=None, max_leaves=None,\n",
       "             min_child_weight=None, missing=nan, monotone_constraints=None,\n",
       "             n_estimators=100, n_jobs=None, num_parallel_tree=None,\n",
       "             predictor=None, random_state=None, ...)"
      ]
     },
     "execution_count": 10,
     "metadata": {},
     "output_type": "execute_result"
    }
   ],
   "source": [
    "model = xgb.XGBRegressor()\n",
    "model.fit(X_train, y_train)\n",
    "\n",
    "\n",
    "\n"
   ]
  },
  {
   "cell_type": "markdown",
   "metadata": {},
   "source": [
    "Procesando en conjunto de prueba con los mismos procedimientos:"
   ]
  },
  {
   "cell_type": "code",
   "execution_count": 11,
   "metadata": {},
   "outputs": [],
   "source": [
    "# Seleccionar las columnas numéricas que deseas escalar\n",
    "columnas_a_escalar = [ 'latitude', 'longitude',\n",
    "       'minimum_nights', 'calculated_host_listings_count', 'availability_365',\n",
    "       'number_of_reviews_ltm']\n",
    "\n",
    "# Crear el objeto StandardScaler\n",
    "scaler = StandardScaler()\n",
    "\n",
    "# Ajustar y transformar las columnas seleccionadas con el StandardScaler\n",
    "X_test[columnas_a_escalar] = scaler.fit_transform(X_test[columnas_a_escalar])"
   ]
  },
  {
   "cell_type": "code",
   "execution_count": 12,
   "metadata": {},
   "outputs": [
    {
     "data": {
      "text/html": [
       "<div>\n",
       "<style scoped>\n",
       "    .dataframe tbody tr th:only-of-type {\n",
       "        vertical-align: middle;\n",
       "    }\n",
       "\n",
       "    .dataframe tbody tr th {\n",
       "        vertical-align: top;\n",
       "    }\n",
       "\n",
       "    .dataframe thead th {\n",
       "        text-align: right;\n",
       "    }\n",
       "</style>\n",
       "<table border=\"1\" class=\"dataframe\">\n",
       "  <thead>\n",
       "    <tr style=\"text-align: right;\">\n",
       "      <th></th>\n",
       "      <th>latitude</th>\n",
       "      <th>longitude</th>\n",
       "      <th>minimum_nights</th>\n",
       "      <th>calculated_host_listings_count</th>\n",
       "      <th>availability_365</th>\n",
       "      <th>number_of_reviews_ltm</th>\n",
       "      <th>neighbourhood_Barking and Dagenham</th>\n",
       "      <th>neighbourhood_Barnet</th>\n",
       "      <th>neighbourhood_Bexley</th>\n",
       "      <th>neighbourhood_Brent</th>\n",
       "      <th>...</th>\n",
       "      <th>neighbourhood_Newham</th>\n",
       "      <th>neighbourhood_Redbridge</th>\n",
       "      <th>neighbourhood_Richmond upon Thames</th>\n",
       "      <th>neighbourhood_Southwark</th>\n",
       "      <th>neighbourhood_Sutton</th>\n",
       "      <th>neighbourhood_Tower Hamlets</th>\n",
       "      <th>neighbourhood_Waltham Forest</th>\n",
       "      <th>neighbourhood_Wandsworth</th>\n",
       "      <th>neighbourhood_Westminster</th>\n",
       "      <th>room_type_Private room</th>\n",
       "    </tr>\n",
       "  </thead>\n",
       "  <tbody>\n",
       "    <tr>\n",
       "      <th>19333</th>\n",
       "      <td>0.464892</td>\n",
       "      <td>0.650293</td>\n",
       "      <td>-0.041660</td>\n",
       "      <td>0.015317</td>\n",
       "      <td>-0.466926</td>\n",
       "      <td>0.276724</td>\n",
       "      <td>0.0</td>\n",
       "      <td>0.0</td>\n",
       "      <td>0.0</td>\n",
       "      <td>0.0</td>\n",
       "      <td>...</td>\n",
       "      <td>0.0</td>\n",
       "      <td>0.0</td>\n",
       "      <td>0.0</td>\n",
       "      <td>0.0</td>\n",
       "      <td>0.0</td>\n",
       "      <td>1.0</td>\n",
       "      <td>0.0</td>\n",
       "      <td>0.0</td>\n",
       "      <td>0.0</td>\n",
       "      <td>1.0</td>\n",
       "    </tr>\n",
       "    <tr>\n",
       "      <th>10292</th>\n",
       "      <td>0.456519</td>\n",
       "      <td>0.301742</td>\n",
       "      <td>-0.081783</td>\n",
       "      <td>-0.214968</td>\n",
       "      <td>-0.768494</td>\n",
       "      <td>-0.431270</td>\n",
       "      <td>0.0</td>\n",
       "      <td>0.0</td>\n",
       "      <td>0.0</td>\n",
       "      <td>0.0</td>\n",
       "      <td>...</td>\n",
       "      <td>0.0</td>\n",
       "      <td>0.0</td>\n",
       "      <td>0.0</td>\n",
       "      <td>0.0</td>\n",
       "      <td>0.0</td>\n",
       "      <td>0.0</td>\n",
       "      <td>0.0</td>\n",
       "      <td>0.0</td>\n",
       "      <td>0.0</td>\n",
       "      <td>1.0</td>\n",
       "    </tr>\n",
       "    <tr>\n",
       "      <th>8143</th>\n",
       "      <td>-0.626216</td>\n",
       "      <td>-0.470930</td>\n",
       "      <td>-0.121905</td>\n",
       "      <td>-0.176588</td>\n",
       "      <td>-0.768494</td>\n",
       "      <td>-0.431270</td>\n",
       "      <td>0.0</td>\n",
       "      <td>0.0</td>\n",
       "      <td>0.0</td>\n",
       "      <td>0.0</td>\n",
       "      <td>...</td>\n",
       "      <td>0.0</td>\n",
       "      <td>0.0</td>\n",
       "      <td>0.0</td>\n",
       "      <td>0.0</td>\n",
       "      <td>0.0</td>\n",
       "      <td>0.0</td>\n",
       "      <td>0.0</td>\n",
       "      <td>1.0</td>\n",
       "      <td>0.0</td>\n",
       "      <td>1.0</td>\n",
       "    </tr>\n",
       "    <tr>\n",
       "      <th>9830</th>\n",
       "      <td>-0.254264</td>\n",
       "      <td>0.288701</td>\n",
       "      <td>-0.121905</td>\n",
       "      <td>-0.214968</td>\n",
       "      <td>-0.768494</td>\n",
       "      <td>-0.431270</td>\n",
       "      <td>0.0</td>\n",
       "      <td>0.0</td>\n",
       "      <td>0.0</td>\n",
       "      <td>0.0</td>\n",
       "      <td>...</td>\n",
       "      <td>0.0</td>\n",
       "      <td>0.0</td>\n",
       "      <td>0.0</td>\n",
       "      <td>1.0</td>\n",
       "      <td>0.0</td>\n",
       "      <td>0.0</td>\n",
       "      <td>0.0</td>\n",
       "      <td>0.0</td>\n",
       "      <td>0.0</td>\n",
       "      <td>1.0</td>\n",
       "    </tr>\n",
       "    <tr>\n",
       "      <th>4622</th>\n",
       "      <td>-0.483129</td>\n",
       "      <td>0.162036</td>\n",
       "      <td>-0.081783</td>\n",
       "      <td>-0.214968</td>\n",
       "      <td>-0.768494</td>\n",
       "      <td>-0.431270</td>\n",
       "      <td>0.0</td>\n",
       "      <td>0.0</td>\n",
       "      <td>0.0</td>\n",
       "      <td>0.0</td>\n",
       "      <td>...</td>\n",
       "      <td>0.0</td>\n",
       "      <td>0.0</td>\n",
       "      <td>0.0</td>\n",
       "      <td>1.0</td>\n",
       "      <td>0.0</td>\n",
       "      <td>0.0</td>\n",
       "      <td>0.0</td>\n",
       "      <td>0.0</td>\n",
       "      <td>0.0</td>\n",
       "      <td>1.0</td>\n",
       "    </tr>\n",
       "  </tbody>\n",
       "</table>\n",
       "<p>5 rows × 40 columns</p>\n",
       "</div>"
      ],
      "text/plain": [
       "       latitude  longitude  minimum_nights  calculated_host_listings_count  \\\n",
       "19333  0.464892   0.650293       -0.041660                        0.015317   \n",
       "10292  0.456519   0.301742       -0.081783                       -0.214968   \n",
       "8143  -0.626216  -0.470930       -0.121905                       -0.176588   \n",
       "9830  -0.254264   0.288701       -0.121905                       -0.214968   \n",
       "4622  -0.483129   0.162036       -0.081783                       -0.214968   \n",
       "\n",
       "       availability_365  number_of_reviews_ltm  \\\n",
       "19333         -0.466926               0.276724   \n",
       "10292         -0.768494              -0.431270   \n",
       "8143          -0.768494              -0.431270   \n",
       "9830          -0.768494              -0.431270   \n",
       "4622          -0.768494              -0.431270   \n",
       "\n",
       "       neighbourhood_Barking and Dagenham  neighbourhood_Barnet  \\\n",
       "19333                                 0.0                   0.0   \n",
       "10292                                 0.0                   0.0   \n",
       "8143                                  0.0                   0.0   \n",
       "9830                                  0.0                   0.0   \n",
       "4622                                  0.0                   0.0   \n",
       "\n",
       "       neighbourhood_Bexley  neighbourhood_Brent  ...  neighbourhood_Newham  \\\n",
       "19333                   0.0                  0.0  ...                   0.0   \n",
       "10292                   0.0                  0.0  ...                   0.0   \n",
       "8143                    0.0                  0.0  ...                   0.0   \n",
       "9830                    0.0                  0.0  ...                   0.0   \n",
       "4622                    0.0                  0.0  ...                   0.0   \n",
       "\n",
       "       neighbourhood_Redbridge  neighbourhood_Richmond upon Thames  \\\n",
       "19333                      0.0                                 0.0   \n",
       "10292                      0.0                                 0.0   \n",
       "8143                       0.0                                 0.0   \n",
       "9830                       0.0                                 0.0   \n",
       "4622                       0.0                                 0.0   \n",
       "\n",
       "       neighbourhood_Southwark  neighbourhood_Sutton  \\\n",
       "19333                      0.0                   0.0   \n",
       "10292                      0.0                   0.0   \n",
       "8143                       0.0                   0.0   \n",
       "9830                       1.0                   0.0   \n",
       "4622                       1.0                   0.0   \n",
       "\n",
       "       neighbourhood_Tower Hamlets  neighbourhood_Waltham Forest  \\\n",
       "19333                          1.0                           0.0   \n",
       "10292                          0.0                           0.0   \n",
       "8143                           0.0                           0.0   \n",
       "9830                           0.0                           0.0   \n",
       "4622                           0.0                           0.0   \n",
       "\n",
       "       neighbourhood_Wandsworth  neighbourhood_Westminster  \\\n",
       "19333                       0.0                        0.0   \n",
       "10292                       0.0                        0.0   \n",
       "8143                        1.0                        0.0   \n",
       "9830                        0.0                        0.0   \n",
       "4622                        0.0                        0.0   \n",
       "\n",
       "       room_type_Private room  \n",
       "19333                     1.0  \n",
       "10292                     1.0  \n",
       "8143                      1.0  \n",
       "9830                      1.0  \n",
       "4622                      1.0  \n",
       "\n",
       "[5 rows x 40 columns]"
      ]
     },
     "execution_count": 12,
     "metadata": {},
     "output_type": "execute_result"
    }
   ],
   "source": [
    "X_test.head()"
   ]
  },
  {
   "cell_type": "code",
   "execution_count": 13,
   "metadata": {},
   "outputs": [],
   "source": [
    "# Realizar predicciones en el conjunto de prueba\n",
    "y_pred = model.predict(X_test)"
   ]
  },
  {
   "cell_type": "code",
   "execution_count": 14,
   "metadata": {},
   "outputs": [
    {
     "name": "stdout",
     "output_type": "stream",
     "text": [
      "R-squared: 0.04428640215405599 \n",
      "Mean Squared Error: 153603.43290402374\n",
      "Mean Absolute Error: 61.29198863604935\n",
      "Root Mean Squared Error: 391.922738437085\n"
     ]
    }
   ],
   "source": [
    "# Evaluar el rendimiento del modelo utilizando el error cuadrático medio (Mean Squared Error)\n",
    "mse = mean_squared_error(y_test, y_pred)\n",
    "mae = mean_absolute_error(y_test, y_pred)\n",
    "\n",
    "\n",
    "rmse = mean_squared_error(y_test, y_pred, squared=False)\n",
    "r2 = r2_score(y_test, y_pred)\n",
    "\n",
    "\n",
    "print(f\"R-squared: {r2} \\nMean Squared Error: {mse}\\nMean Absolute Error: {mae}\\nRoot Mean Squared Error: {rmse}\")"
   ]
  },
  {
   "cell_type": "markdown",
   "metadata": {},
   "source": [
    "Entrenando el modelo XGBoost en el conjunto con las 15  mejores caracteristicas seleccionadas."
   ]
  },
  {
   "cell_type": "code",
   "execution_count": 15,
   "metadata": {},
   "outputs": [
    {
     "data": {
      "text/html": [
       "<style>#sk-container-id-2 {color: black;background-color: white;}#sk-container-id-2 pre{padding: 0;}#sk-container-id-2 div.sk-toggleable {background-color: white;}#sk-container-id-2 label.sk-toggleable__label {cursor: pointer;display: block;width: 100%;margin-bottom: 0;padding: 0.3em;box-sizing: border-box;text-align: center;}#sk-container-id-2 label.sk-toggleable__label-arrow:before {content: \"▸\";float: left;margin-right: 0.25em;color: #696969;}#sk-container-id-2 label.sk-toggleable__label-arrow:hover:before {color: black;}#sk-container-id-2 div.sk-estimator:hover label.sk-toggleable__label-arrow:before {color: black;}#sk-container-id-2 div.sk-toggleable__content {max-height: 0;max-width: 0;overflow: hidden;text-align: left;background-color: #f0f8ff;}#sk-container-id-2 div.sk-toggleable__content pre {margin: 0.2em;color: black;border-radius: 0.25em;background-color: #f0f8ff;}#sk-container-id-2 input.sk-toggleable__control:checked~div.sk-toggleable__content {max-height: 200px;max-width: 100%;overflow: auto;}#sk-container-id-2 input.sk-toggleable__control:checked~label.sk-toggleable__label-arrow:before {content: \"▾\";}#sk-container-id-2 div.sk-estimator input.sk-toggleable__control:checked~label.sk-toggleable__label {background-color: #d4ebff;}#sk-container-id-2 div.sk-label input.sk-toggleable__control:checked~label.sk-toggleable__label {background-color: #d4ebff;}#sk-container-id-2 input.sk-hidden--visually {border: 0;clip: rect(1px 1px 1px 1px);clip: rect(1px, 1px, 1px, 1px);height: 1px;margin: -1px;overflow: hidden;padding: 0;position: absolute;width: 1px;}#sk-container-id-2 div.sk-estimator {font-family: monospace;background-color: #f0f8ff;border: 1px dotted black;border-radius: 0.25em;box-sizing: border-box;margin-bottom: 0.5em;}#sk-container-id-2 div.sk-estimator:hover {background-color: #d4ebff;}#sk-container-id-2 div.sk-parallel-item::after {content: \"\";width: 100%;border-bottom: 1px solid gray;flex-grow: 1;}#sk-container-id-2 div.sk-label:hover label.sk-toggleable__label {background-color: #d4ebff;}#sk-container-id-2 div.sk-serial::before {content: \"\";position: absolute;border-left: 1px solid gray;box-sizing: border-box;top: 0;bottom: 0;left: 50%;z-index: 0;}#sk-container-id-2 div.sk-serial {display: flex;flex-direction: column;align-items: center;background-color: white;padding-right: 0.2em;padding-left: 0.2em;position: relative;}#sk-container-id-2 div.sk-item {position: relative;z-index: 1;}#sk-container-id-2 div.sk-parallel {display: flex;align-items: stretch;justify-content: center;background-color: white;position: relative;}#sk-container-id-2 div.sk-item::before, #sk-container-id-2 div.sk-parallel-item::before {content: \"\";position: absolute;border-left: 1px solid gray;box-sizing: border-box;top: 0;bottom: 0;left: 50%;z-index: -1;}#sk-container-id-2 div.sk-parallel-item {display: flex;flex-direction: column;z-index: 1;position: relative;background-color: white;}#sk-container-id-2 div.sk-parallel-item:first-child::after {align-self: flex-end;width: 50%;}#sk-container-id-2 div.sk-parallel-item:last-child::after {align-self: flex-start;width: 50%;}#sk-container-id-2 div.sk-parallel-item:only-child::after {width: 0;}#sk-container-id-2 div.sk-dashed-wrapped {border: 1px dashed gray;margin: 0 0.4em 0.5em 0.4em;box-sizing: border-box;padding-bottom: 0.4em;background-color: white;}#sk-container-id-2 div.sk-label label {font-family: monospace;font-weight: bold;display: inline-block;line-height: 1.2em;}#sk-container-id-2 div.sk-label-container {text-align: center;}#sk-container-id-2 div.sk-container {/* jupyter's `normalize.less` sets `[hidden] { display: none; }` but bootstrap.min.css set `[hidden] { display: none !important; }` so we also need the `!important` here to be able to override the default hidden behavior on the sphinx rendered scikit-learn.org. See: https://github.com/scikit-learn/scikit-learn/issues/21755 */display: inline-block !important;position: relative;}#sk-container-id-2 div.sk-text-repr-fallback {display: none;}</style><div id=\"sk-container-id-2\" class=\"sk-top-container\"><div class=\"sk-text-repr-fallback\"><pre>XGBRegressor(base_score=None, booster=None, callbacks=None,\n",
       "             colsample_bylevel=None, colsample_bynode=None,\n",
       "             colsample_bytree=None, early_stopping_rounds=None,\n",
       "             enable_categorical=False, eval_metric=None, feature_types=None,\n",
       "             gamma=None, gpu_id=None, grow_policy=None, importance_type=None,\n",
       "             interaction_constraints=None, learning_rate=None, max_bin=None,\n",
       "             max_cat_threshold=None, max_cat_to_onehot=None,\n",
       "             max_delta_step=None, max_depth=None, max_leaves=None,\n",
       "             min_child_weight=None, missing=nan, monotone_constraints=None,\n",
       "             n_estimators=100, n_jobs=None, num_parallel_tree=None,\n",
       "             predictor=None, random_state=None, ...)</pre><b>In a Jupyter environment, please rerun this cell to show the HTML representation or trust the notebook. <br />On GitHub, the HTML representation is unable to render, please try loading this page with nbviewer.org.</b></div><div class=\"sk-container\" hidden><div class=\"sk-item\"><div class=\"sk-estimator sk-toggleable\"><input class=\"sk-toggleable__control sk-hidden--visually\" id=\"sk-estimator-id-2\" type=\"checkbox\" checked><label for=\"sk-estimator-id-2\" class=\"sk-toggleable__label sk-toggleable__label-arrow\">XGBRegressor</label><div class=\"sk-toggleable__content\"><pre>XGBRegressor(base_score=None, booster=None, callbacks=None,\n",
       "             colsample_bylevel=None, colsample_bynode=None,\n",
       "             colsample_bytree=None, early_stopping_rounds=None,\n",
       "             enable_categorical=False, eval_metric=None, feature_types=None,\n",
       "             gamma=None, gpu_id=None, grow_policy=None, importance_type=None,\n",
       "             interaction_constraints=None, learning_rate=None, max_bin=None,\n",
       "             max_cat_threshold=None, max_cat_to_onehot=None,\n",
       "             max_delta_step=None, max_depth=None, max_leaves=None,\n",
       "             min_child_weight=None, missing=nan, monotone_constraints=None,\n",
       "             n_estimators=100, n_jobs=None, num_parallel_tree=None,\n",
       "             predictor=None, random_state=None, ...)</pre></div></div></div></div></div>"
      ],
      "text/plain": [
       "XGBRegressor(base_score=None, booster=None, callbacks=None,\n",
       "             colsample_bylevel=None, colsample_bynode=None,\n",
       "             colsample_bytree=None, early_stopping_rounds=None,\n",
       "             enable_categorical=False, eval_metric=None, feature_types=None,\n",
       "             gamma=None, gpu_id=None, grow_policy=None, importance_type=None,\n",
       "             interaction_constraints=None, learning_rate=None, max_bin=None,\n",
       "             max_cat_threshold=None, max_cat_to_onehot=None,\n",
       "             max_delta_step=None, max_depth=None, max_leaves=None,\n",
       "             min_child_weight=None, missing=nan, monotone_constraints=None,\n",
       "             n_estimators=100, n_jobs=None, num_parallel_tree=None,\n",
       "             predictor=None, random_state=None, ...)"
      ]
     },
     "execution_count": 15,
     "metadata": {},
     "output_type": "execute_result"
    }
   ],
   "source": [
    "model_selectk = xgb.XGBRegressor()\n",
    "model_selectk.fit(X_train, y_train)\n"
   ]
  },
  {
   "cell_type": "code",
   "execution_count": 16,
   "metadata": {},
   "outputs": [],
   "source": [
    "X_test_selected=X_test"
   ]
  },
  {
   "cell_type": "code",
   "execution_count": 17,
   "metadata": {},
   "outputs": [],
   "source": [
    "# Realizar predicciones en el conjunto de prueba\n",
    "y_pred_selectk= model_selectk.predict(X_test_selected)"
   ]
  },
  {
   "cell_type": "code",
   "execution_count": 18,
   "metadata": {},
   "outputs": [
    {
     "name": "stdout",
     "output_type": "stream",
     "text": [
      "R-squared: 0.04428640215405599 \n",
      "Mean Squared Error: 153603.43290402374\n",
      "Mean Absolute Error: 61.29198863604935\n",
      "Root Mean Squared Error: 391.922738437085\n"
     ]
    }
   ],
   "source": [
    "# Evaluar el rendimiento del modelo utilizando el error cuadrático medio (Mean Squared Error)\n",
    "mse = mean_squared_error(y_test, y_pred_selectk)\n",
    "mae = mean_absolute_error(y_test, y_pred_selectk)\n",
    "\n",
    "rmse = mean_squared_error(y_test, y_pred_selectk, squared=False)\n",
    "r2 = r2_score(y_test, y_pred_selectk)\n",
    "\n",
    "\n",
    "print(f\"R-squared: {r2} \\nMean Squared Error: {mse}\\nMean Absolute Error: {mae}\\nRoot Mean Squared Error: {rmse}\")"
   ]
  },
  {
   "cell_type": "markdown",
   "metadata": {},
   "source": [
    "Modelo con ajuste de hiperparametros"
   ]
  },
  {
   "cell_type": "code",
   "execution_count": 19,
   "metadata": {},
   "outputs": [],
   "source": [
    "# Definir los hiperparámetros que deseas probar\n",
    "param_grid = {\n",
    "    'n_estimators': [100, 200, 300],\n",
    "    'learning_rate': [0.01, 0.1, 0.3],\n",
    "    'max_depth': [3, 4, 5],\n",
    "}\n",
    "\n",
    "# Crear el modelo XGBoost\n",
    "model_hip = xgb.XGBRegressor()\n",
    "\n",
    "# Realizar la búsqueda en cuadrícula con validación cruzada\n",
    "grid_search = GridSearchCV(estimator=model_hip, param_grid=param_grid, cv=3, scoring='neg_mean_squared_error')\n",
    "grid_search.fit(X_train, y_train)\n",
    "\n",
    "# Obtener los mejores hiperparámetros y el modelo final\n",
    "best_params = grid_search.best_params_\n",
    "best_model = grid_search.best_estimator_\n",
    "\n",
    "# Realizar predicciones en el conjunto de prueba utilizando el modelo final\n",
    "y_pred_hip = best_model.predict(X_test)\n"
   ]
  },
  {
   "cell_type": "code",
   "execution_count": 20,
   "metadata": {},
   "outputs": [
    {
     "name": "stdout",
     "output_type": "stream",
     "text": [
      "R-squared: 0.09539639822046664 \n",
      "Mean Squared Error: 145388.97318595942\n",
      "Mean Absolute Error: 57.8721285927128\n",
      "Root Mean Squared Error: 381.2990600381273\n"
     ]
    }
   ],
   "source": [
    "# Evaluar el rendimiento del modelo utilizando el error cuadrático medio (Mean Squared Error)\n",
    "mse = mean_squared_error(y_test, y_pred_hip)\n",
    "mae = mean_absolute_error(y_test, y_pred_hip)\n",
    "\n",
    "rmse = mean_squared_error(y_test, y_pred_hip, squared=False)\n",
    "r2 = r2_score(y_test, y_pred_hip)\n",
    "print(f\"R-squared: {r2} \\nMean Squared Error: {mse}\\nMean Absolute Error: {mae}\\nRoot Mean Squared Error: {rmse}\")"
   ]
  },
  {
   "cell_type": "code",
   "execution_count": 21,
   "metadata": {},
   "outputs": [
    {
     "data": {
      "image/png": "[encoded data removed]",
      "text/plain": [
       "<Figure size 800x550 with 1 Axes>"
      ]
     },
     "metadata": {},
     "output_type": "display_data"
    }
   ],
   "source": [
    "\n",
    "# y_test son los valores reales y y_pred son las predicciones del modelo\n",
    "plt.scatter(y_test, y_pred_hip)\n",
    "plt.xlabel(\"Valores reales\")\n",
    "plt.ylabel(\"Predicciones del modelo\")\n",
    "plt.title(\"Gráfico de dispersión de predicciones vs valores reales\")\n",
    "plt.show()\n"
   ]
  },
  {
   "cell_type": "code",
   "execution_count": 22,
   "metadata": {},
   "outputs": [
    {
     "data": {
      "image/png": "[encoded data removed]",
      "text/plain": [
       "<Figure size 800x550 with 1 Axes>"
      ]
     },
     "metadata": {},
     "output_type": "display_data"
    }
   ],
   "source": [
    "residuals = y_test - y_pred_hip\n",
    "plt.scatter(y_test, residuals)\n",
    "plt.xlabel(\"Valores reales\")\n",
    "plt.ylabel(\"Residuos\")\n",
    "plt.title(\"Gráfico de residuos\")\n",
    "plt.axhline(y=0, color='red', linestyle='--')  # Línea en cero para referencia\n",
    "plt.show()\n"
   ]
  },
  {
   "cell_type": "markdown",
   "metadata": {},
   "source": [
    "Probar que recomendaciones de modelos nos da la libreria de automl pycaret"
   ]
  },
  {
   "cell_type": "markdown",
   "metadata": {},
   "source": [
    "Partiendo el set original para modelamiento y pruebas para separar datos que el modelo no conoce y asi testear los resultados de las estimaciones."
   ]
  },
  {
   "cell_type": "code",
   "execution_count": 23,
   "metadata": {},
   "outputs": [
    {
     "name": "stdout",
     "output_type": "stream",
     "text": [
      "Data for Modeling: (24731, 9)\n",
      "Unseen Data For Predictions: (2748, 9)\n"
     ]
    }
   ],
   "source": [
    "data = df.sample(frac=0.9, random_state=786)\n",
    "data_unseen = df.drop(data.index)\n",
    "\n",
    "data.reset_index(drop=True, inplace=True)\n",
    "data_unseen.reset_index(drop=True, inplace=True)\n",
    "\n",
    "print('Data for Modeling: ' + str(data.shape))\n",
    "print('Unseen Data For Predictions: ' + str(data_unseen.shape))"
   ]
  },
  {
   "cell_type": "code",
   "execution_count": 24,
   "metadata": {},
   "outputs": [],
   "source": [
    "#s = setup(data = data, target = 'price', session_id=123,normalize = True,remove_multicollinearity = True, multicollinearity_threshold = 0.3)"
   ]
  },
  {
   "cell_type": "code",
   "execution_count": 25,
   "metadata": {},
   "outputs": [],
   "source": [
    "#best = compare_models()"
   ]
  },
  {
   "cell_type": "markdown",
   "metadata": {},
   "source": [
    "Entrenaremos un LightGBM con las variables seleccionadas anteriormente mediante el metodo selectKbest y  feature selection con ajuste de hiperparametros para ver como se comporta:"
   ]
  },
  {
   "cell_type": "code",
   "execution_count": 26,
   "metadata": {},
   "outputs": [
    {
     "name": "stdout",
     "output_type": "stream",
     "text": [
      "[LightGBM] [Warning] Found whitespace in feature_names, replace with underlines\n",
      "[LightGBM] [Warning] Auto-choosing col-wise multi-threading, the overhead of testing was 0.002323 seconds.\n",
      "You can set `force_col_wise=true` to remove the overhead.\n",
      "[LightGBM] [Info] Total Bins 1035\n",
      "[LightGBM] [Info] Number of data points in the train set: 19235, number of used features: 39\n",
      "[LightGBM] [Info] Start training from score 103.924825\n"
     ]
    }
   ],
   "source": [
    "# Crea el regresor LightGBM\n",
    "lgb_model = lgb.LGBMRegressor(objective='regression', random_state=42)\n",
    "\n",
    "# Entrena el modelo en los datos de entrenamiento\n",
    "lgb_model.fit(X_train, y_train)\n",
    "\n",
    "# Realiza predicciones en el conjunto de prueba\n",
    "y_pred = lgb_model.predict(X_test)\n",
    "\n"
   ]
  },
  {
   "cell_type": "code",
   "execution_count": 27,
   "metadata": {},
   "outputs": [
    {
     "name": "stdout",
     "output_type": "stream",
     "text": [
      "R-squared: 0.21279420515087344 \n",
      "Mean Squared Error: 126520.65719615067\n",
      "Mean Absolute Error: 59.33028719649771\n",
      "Root Mean Squared Error: 355.6974236568922\n"
     ]
    }
   ],
   "source": [
    "# Evaluar el rendimiento del modelo utilizando el error cuadrático medio (Mean Squared Error)\n",
    "mse = mean_squared_error(y_test, y_pred)\n",
    "mae = mean_absolute_error(y_test, y_pred)\n",
    "\n",
    "rmse = mean_squared_error(y_test, y_pred, squared=False)\n",
    "r2 = r2_score(y_test, y_pred)\n",
    "print(f\"R-squared: {r2} \\nMean Squared Error: {mse}\\nMean Absolute Error: {mae}\\nRoot Mean Squared Error: {rmse}\")"
   ]
  },
  {
   "cell_type": "code",
   "execution_count": 28,
   "metadata": {},
   "outputs": [
    {
     "data": {
      "text/plain": [
       "\"param_grid = {\\n    'boosting_type': ['gbdt', 'dart', 'goss'],\\n    'num_leaves': [20, 30, 40, 50, 60],\\n    'learning_rate': [0.01, 0.05, 0.1, 0.2],\\n    'max_depth': [5, 10, 15, 20],\\n    'n_estimators': [100, 200, 300, 400]\\n}\\n\\n# Crea un objeto RandomizedSearchCV\\nrandom_search = RandomizedSearchCV(\\n    lgb_model, param_distributions=param_grid, n_iter=50, cv=3, scoring='neg_mean_squared_error', random_state=42\\n)\""
      ]
     },
     "execution_count": 28,
     "metadata": {},
     "output_type": "execute_result"
    }
   ],
   "source": [
    "# Define la grilla de hiperparámetros a explorar\n",
    "\"\"\"param_grid = {\n",
    "    'boosting_type': ['gbdt', 'dart', 'goss'],\n",
    "    'num_leaves': [20, 30, 40, 50, 60],\n",
    "    'learning_rate': [0.01, 0.05, 0.1, 0.2],\n",
    "    'max_depth': [5, 10, 15, 20],\n",
    "    'n_estimators': [100, 200, 300, 400]\n",
    "}\n",
    "\n",
    "# Crea un objeto RandomizedSearchCV\n",
    "random_search = RandomizedSearchCV(\n",
    "    lgb_model, param_distributions=param_grid, n_iter=50, cv=3, scoring='neg_mean_squared_error', random_state=42\n",
    ")\"\"\"\n",
    "\n"
   ]
  },
  {
   "cell_type": "code",
   "execution_count": 29,
   "metadata": {},
   "outputs": [
    {
     "ename": "NameError",
     "evalue": "name 'random_search' is not defined",
     "output_type": "error",
     "traceback": [
      "\u001b[1;31m---------------------------------------------------------------------------\u001b[0m",
      "\u001b[1;31mNameError\u001b[0m                                 Traceback (most recent call last)",
      "\u001b[1;32m~\\AppData\\Local\\Temp\\ipykernel_6476\\18912244.py\u001b[0m in \u001b[0;36m<module>\u001b[1;34m\u001b[0m\n\u001b[0;32m      1\u001b[0m \u001b[1;31m# Realiza la búsqueda aleatoria en los datos de entrenamiento\u001b[0m\u001b[1;33m\u001b[0m\u001b[1;33m\u001b[0m\u001b[0m\n\u001b[1;32m----> 2\u001b[1;33m \u001b[0mrandom_search\u001b[0m\u001b[1;33m.\u001b[0m\u001b[0mfit\u001b[0m\u001b[1;33m(\u001b[0m\u001b[0mX_train\u001b[0m\u001b[1;33m,\u001b[0m \u001b[0my_train\u001b[0m\u001b[1;33m)\u001b[0m\u001b[1;33m\u001b[0m\u001b[1;33m\u001b[0m\u001b[0m\n\u001b[0m\u001b[0;32m      3\u001b[0m \u001b[1;33m\u001b[0m\u001b[0m\n\u001b[0;32m      4\u001b[0m \u001b[1;31m# Muestra los mejores hiperparámetros encontrados\u001b[0m\u001b[1;33m\u001b[0m\u001b[1;33m\u001b[0m\u001b[0m\n\u001b[0;32m      5\u001b[0m \u001b[0mprint\u001b[0m\u001b[1;33m(\u001b[0m\u001b[1;34m\"Mejores hiperparámetros encontrados:\"\u001b[0m\u001b[1;33m)\u001b[0m\u001b[1;33m\u001b[0m\u001b[1;33m\u001b[0m\u001b[0m\n",
      "\u001b[1;31mNameError\u001b[0m: name 'random_search' is not defined"
     ]
    }
   ],
   "source": [
    "# Realiza la búsqueda aleatoria en los datos de entrenamiento\n",
    "random_search.fit(X_train, y_train)\n",
    "\n",
    "# Muestra los mejores hiperparámetros encontrados\n",
    "print(\"Mejores hiperparámetros encontrados:\")\n",
    "print(random_search.best_params_)\n",
    "\n",
    "# Realiza predicciones en el conjunto de prueba con el mejor modelo encontrado\n",
    "y_pred = random_search.best_estimator_.predict(X_test)"
   ]
  },
  {
   "cell_type": "code",
   "execution_count": 30,
   "metadata": {},
   "outputs": [
    {
     "name": "stdout",
     "output_type": "stream",
     "text": [
      "R-squared: 0.21279420515087344 \n",
      "Mean Squared Error: 126520.65719615067\n",
      "Mean Absolute Error: 59.33028719649771\n",
      "Root Mean Squared Error: 355.6974236568922\n"
     ]
    }
   ],
   "source": [
    "# Evaluar el rendimiento del modelo utilizando el error cuadrático medio (Mean Squared Error)\n",
    "mse = mean_squared_error(y_test, y_pred)\n",
    "mae = mean_absolute_error(y_test, y_pred)\n",
    "\n",
    "\n",
    "rmse = mean_squared_error(y_test, y_pred, squared=False)\n",
    "r2 = r2_score(y_test, y_pred)\n",
    "\n",
    "\n",
    "print(f\"R-squared: {r2} \\nMean Squared Error: {mse}\\nMean Absolute Error: {mae}\\nRoot Mean Squared Error: {rmse}\")"
   ]
  },
  {
   "cell_type": "code",
   "execution_count": 31,
   "metadata": {},
   "outputs": [
    {
     "data": {
      "image/png": "[encoded data removed]",
      "text/plain": [
       "<Figure size 800x550 with 1 Axes>"
      ]
     },
     "metadata": {},
     "output_type": "display_data"
    }
   ],
   "source": [
    "\n",
    "# y_test son los valores reales y y_pred son las predicciones del modelo\n",
    "plt.scatter(y_test, y_pred)\n",
    "plt.xlabel(\"Valores reales\")\n",
    "plt.ylabel(\"Predicciones del modelo\")\n",
    "plt.title(\"Gráfico de dispersión de predicciones vs valores reales\")\n",
    "plt.show()\n"
   ]
  },
  {
   "cell_type": "code",
   "execution_count": 32,
   "metadata": {},
   "outputs": [
    {
     "data": {
      "image/png": "[encoded data removed]",
      "text/plain": [
       "<Figure size 800x550 with 1 Axes>"
      ]
     },
     "metadata": {},
     "output_type": "display_data"
    }
   ],
   "source": [
    "residuals = y_test - y_pred_hip\n",
    "plt.scatter(y_test, residuals)\n",
    "plt.xlabel(\"Valores reales\")\n",
    "plt.ylabel(\"Residuos\")\n",
    "plt.title(\"Gráfico de residuos\")\n",
    "plt.axhline(y=0, color='red', linestyle='--')  # Línea en cero para referencia\n",
    "plt.show()\n"
   ]
  },
  {
   "cell_type": "code",
   "execution_count": 35,
   "metadata": {},
   "outputs": [
    {
     "data": {
      "text/plain": [
       "['../modelos/lgbm_private_room.joblib']"
      ]
     },
     "execution_count": 35,
     "metadata": {},
     "output_type": "execute_result"
    }
   ],
   "source": [
    "\n",
    "# Ruta del archivo donde guardarás el modelo\n",
    "ruta_archivo_modelo = \"../modelos/lgbm_private_room.joblib\"\n",
    "\n",
    "# Guardar el modelo usando joblib\n",
    "joblib.dump(lgb_model, ruta_archivo_modelo)"
   ]
  }
 ],
 "metadata": {
  "kernelspec": {
   "display_name": "Axial",
   "language": "python",
   "name": "python3"
  },
  "language_info": {
   "codemirror_mode": {
    "name": "ipython",
    "version": 3
   },
   "file_extension": ".py",
   "mimetype": "text/x-python",
   "name": "python",
   "nbconvert_exporter": "python",
   "pygments_lexer": "ipython3",
   "version": "3.9.16"
  },
  "orig_nbformat": 4
 },
 "nbformat": 4,
 "nbformat_minor": 2
}
